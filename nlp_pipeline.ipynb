{
  "cells": [
    {
      "cell_type": "markdown",
      "source": [
        "# Importing necessary libraries"
      ],
      "metadata": {
        "id": "HmbMBffDIsmD"
      }
    },
    {
      "cell_type": "code",
      "source": [
        "!pip install textacy\n",
        "!python -m spacy download en_core_web_lg"
      ],
      "metadata": {
        "colab": {
          "base_uri": "https://localhost:8080/"
        },
        "id": "DDw6QmORHytm",
        "outputId": "50a2caad-a8c7-4f69-be5e-5ec6c7c55d83"
      },
      "execution_count": 1,
      "outputs": [
        {
          "output_type": "stream",
          "name": "stdout",
          "text": [
            "Requirement already satisfied: textacy in /usr/local/lib/python3.7/dist-packages (0.11.0)\n",
            "Requirement already satisfied: numpy>=1.17.0 in /usr/local/lib/python3.7/dist-packages (from textacy) (1.21.5)\n",
            "Requirement already satisfied: networkx>=2.0 in /usr/local/lib/python3.7/dist-packages (from textacy) (2.6.3)\n",
            "Requirement already satisfied: joblib>=0.13.0 in /usr/local/lib/python3.7/dist-packages (from textacy) (1.1.0)\n",
            "Requirement already satisfied: jellyfish>=0.8.0 in /usr/local/lib/python3.7/dist-packages (from textacy) (0.9.0)\n",
            "Requirement already satisfied: cytoolz>=0.10.1 in /usr/local/lib/python3.7/dist-packages (from textacy) (0.11.2)\n",
            "Requirement already satisfied: scikit-learn>=0.19.0 in /usr/local/lib/python3.7/dist-packages (from textacy) (1.0.2)\n",
            "Requirement already satisfied: tqdm>=4.19.6 in /usr/local/lib/python3.7/dist-packages (from textacy) (4.64.0)\n",
            "Requirement already satisfied: pyphen>=0.10.0 in /usr/local/lib/python3.7/dist-packages (from textacy) (0.12.0)\n",
            "Requirement already satisfied: cachetools>=4.0.0 in /usr/local/lib/python3.7/dist-packages (from textacy) (4.2.4)\n",
            "Requirement already satisfied: requests>=2.10.0 in /usr/local/lib/python3.7/dist-packages (from textacy) (2.23.0)\n",
            "Requirement already satisfied: spacy>=3.0.0 in /usr/local/lib/python3.7/dist-packages (from textacy) (3.2.4)\n",
            "Requirement already satisfied: scipy>=0.17.0 in /usr/local/lib/python3.7/dist-packages (from textacy) (1.4.1)\n",
            "Requirement already satisfied: toolz>=0.8.0 in /usr/local/lib/python3.7/dist-packages (from cytoolz>=0.10.1->textacy) (0.11.2)\n",
            "Requirement already satisfied: urllib3!=1.25.0,!=1.25.1,<1.26,>=1.21.1 in /usr/local/lib/python3.7/dist-packages (from requests>=2.10.0->textacy) (1.24.3)\n",
            "Requirement already satisfied: chardet<4,>=3.0.2 in /usr/local/lib/python3.7/dist-packages (from requests>=2.10.0->textacy) (3.0.4)\n",
            "Requirement already satisfied: certifi>=2017.4.17 in /usr/local/lib/python3.7/dist-packages (from requests>=2.10.0->textacy) (2021.10.8)\n",
            "Requirement already satisfied: idna<3,>=2.5 in /usr/local/lib/python3.7/dist-packages (from requests>=2.10.0->textacy) (2.10)\n",
            "Requirement already satisfied: threadpoolctl>=2.0.0 in /usr/local/lib/python3.7/dist-packages (from scikit-learn>=0.19.0->textacy) (3.1.0)\n",
            "Requirement already satisfied: spacy-loggers<2.0.0,>=1.0.0 in /usr/local/lib/python3.7/dist-packages (from spacy>=3.0.0->textacy) (1.0.2)\n",
            "Requirement already satisfied: typer<0.5.0,>=0.3.0 in /usr/local/lib/python3.7/dist-packages (from spacy>=3.0.0->textacy) (0.4.1)\n",
            "Requirement already satisfied: pydantic!=1.8,!=1.8.1,<1.9.0,>=1.7.4 in /usr/local/lib/python3.7/dist-packages (from spacy>=3.0.0->textacy) (1.8.2)\n",
            "Requirement already satisfied: wasabi<1.1.0,>=0.8.1 in /usr/local/lib/python3.7/dist-packages (from spacy>=3.0.0->textacy) (0.9.1)\n",
            "Requirement already satisfied: jinja2 in /usr/local/lib/python3.7/dist-packages (from spacy>=3.0.0->textacy) (2.11.3)\n",
            "Requirement already satisfied: setuptools in /usr/local/lib/python3.7/dist-packages (from spacy>=3.0.0->textacy) (57.4.0)\n",
            "Requirement already satisfied: spacy-legacy<3.1.0,>=3.0.8 in /usr/local/lib/python3.7/dist-packages (from spacy>=3.0.0->textacy) (3.0.9)\n",
            "Requirement already satisfied: murmurhash<1.1.0,>=0.28.0 in /usr/local/lib/python3.7/dist-packages (from spacy>=3.0.0->textacy) (1.0.6)\n",
            "Requirement already satisfied: preshed<3.1.0,>=3.0.2 in /usr/local/lib/python3.7/dist-packages (from spacy>=3.0.0->textacy) (3.0.6)\n",
            "Requirement already satisfied: typing-extensions<4.0.0.0,>=3.7.4 in /usr/local/lib/python3.7/dist-packages (from spacy>=3.0.0->textacy) (3.10.0.2)\n",
            "Requirement already satisfied: cymem<2.1.0,>=2.0.2 in /usr/local/lib/python3.7/dist-packages (from spacy>=3.0.0->textacy) (2.0.6)\n",
            "Requirement already satisfied: packaging>=20.0 in /usr/local/lib/python3.7/dist-packages (from spacy>=3.0.0->textacy) (21.3)\n",
            "Requirement already satisfied: srsly<3.0.0,>=2.4.1 in /usr/local/lib/python3.7/dist-packages (from spacy>=3.0.0->textacy) (2.4.3)\n",
            "Requirement already satisfied: pathy>=0.3.5 in /usr/local/lib/python3.7/dist-packages (from spacy>=3.0.0->textacy) (0.6.1)\n",
            "Requirement already satisfied: click<8.1.0 in /usr/local/lib/python3.7/dist-packages (from spacy>=3.0.0->textacy) (7.1.2)\n",
            "Requirement already satisfied: langcodes<4.0.0,>=3.2.0 in /usr/local/lib/python3.7/dist-packages (from spacy>=3.0.0->textacy) (3.3.0)\n",
            "Requirement already satisfied: catalogue<2.1.0,>=2.0.6 in /usr/local/lib/python3.7/dist-packages (from spacy>=3.0.0->textacy) (2.0.7)\n",
            "Requirement already satisfied: blis<0.8.0,>=0.4.0 in /usr/local/lib/python3.7/dist-packages (from spacy>=3.0.0->textacy) (0.4.1)\n",
            "Requirement already satisfied: thinc<8.1.0,>=8.0.12 in /usr/local/lib/python3.7/dist-packages (from spacy>=3.0.0->textacy) (8.0.15)\n",
            "Requirement already satisfied: zipp>=0.5 in /usr/local/lib/python3.7/dist-packages (from catalogue<2.1.0,>=2.0.6->spacy>=3.0.0->textacy) (3.8.0)\n",
            "Requirement already satisfied: pyparsing!=3.0.5,>=2.0.2 in /usr/local/lib/python3.7/dist-packages (from packaging>=20.0->spacy>=3.0.0->textacy) (3.0.8)\n",
            "Requirement already satisfied: smart-open<6.0.0,>=5.0.0 in /usr/local/lib/python3.7/dist-packages (from pathy>=0.3.5->spacy>=3.0.0->textacy) (5.2.1)\n",
            "Requirement already satisfied: MarkupSafe>=0.23 in /usr/local/lib/python3.7/dist-packages (from jinja2->spacy>=3.0.0->textacy) (2.0.1)\n",
            "Collecting en-core-web-lg==3.2.0\n",
            "  Downloading https://github.com/explosion/spacy-models/releases/download/en_core_web_lg-3.2.0/en_core_web_lg-3.2.0-py3-none-any.whl (777.4 MB)\n",
            "\u001b[K     |████████████████████████████████| 777.4 MB 5.6 kB/s \n",
            "\u001b[?25hRequirement already satisfied: spacy<3.3.0,>=3.2.0 in /usr/local/lib/python3.7/dist-packages (from en-core-web-lg==3.2.0) (3.2.4)\n",
            "Requirement already satisfied: thinc<8.1.0,>=8.0.12 in /usr/local/lib/python3.7/dist-packages (from spacy<3.3.0,>=3.2.0->en-core-web-lg==3.2.0) (8.0.15)\n",
            "Requirement already satisfied: cymem<2.1.0,>=2.0.2 in /usr/local/lib/python3.7/dist-packages (from spacy<3.3.0,>=3.2.0->en-core-web-lg==3.2.0) (2.0.6)\n",
            "Requirement already satisfied: langcodes<4.0.0,>=3.2.0 in /usr/local/lib/python3.7/dist-packages (from spacy<3.3.0,>=3.2.0->en-core-web-lg==3.2.0) (3.3.0)\n",
            "Requirement already satisfied: pydantic!=1.8,!=1.8.1,<1.9.0,>=1.7.4 in /usr/local/lib/python3.7/dist-packages (from spacy<3.3.0,>=3.2.0->en-core-web-lg==3.2.0) (1.8.2)\n",
            "Requirement already satisfied: wasabi<1.1.0,>=0.8.1 in /usr/local/lib/python3.7/dist-packages (from spacy<3.3.0,>=3.2.0->en-core-web-lg==3.2.0) (0.9.1)\n",
            "Requirement already satisfied: setuptools in /usr/local/lib/python3.7/dist-packages (from spacy<3.3.0,>=3.2.0->en-core-web-lg==3.2.0) (57.4.0)\n",
            "Requirement already satisfied: typer<0.5.0,>=0.3.0 in /usr/local/lib/python3.7/dist-packages (from spacy<3.3.0,>=3.2.0->en-core-web-lg==3.2.0) (0.4.1)\n",
            "Requirement already satisfied: typing-extensions<4.0.0.0,>=3.7.4 in /usr/local/lib/python3.7/dist-packages (from spacy<3.3.0,>=3.2.0->en-core-web-lg==3.2.0) (3.10.0.2)\n",
            "Requirement already satisfied: srsly<3.0.0,>=2.4.1 in /usr/local/lib/python3.7/dist-packages (from spacy<3.3.0,>=3.2.0->en-core-web-lg==3.2.0) (2.4.3)\n",
            "Requirement already satisfied: spacy-legacy<3.1.0,>=3.0.8 in /usr/local/lib/python3.7/dist-packages (from spacy<3.3.0,>=3.2.0->en-core-web-lg==3.2.0) (3.0.9)\n",
            "Requirement already satisfied: numpy>=1.15.0 in /usr/local/lib/python3.7/dist-packages (from spacy<3.3.0,>=3.2.0->en-core-web-lg==3.2.0) (1.21.5)\n",
            "Requirement already satisfied: preshed<3.1.0,>=3.0.2 in /usr/local/lib/python3.7/dist-packages (from spacy<3.3.0,>=3.2.0->en-core-web-lg==3.2.0) (3.0.6)\n",
            "Requirement already satisfied: jinja2 in /usr/local/lib/python3.7/dist-packages (from spacy<3.3.0,>=3.2.0->en-core-web-lg==3.2.0) (2.11.3)\n",
            "Requirement already satisfied: spacy-loggers<2.0.0,>=1.0.0 in /usr/local/lib/python3.7/dist-packages (from spacy<3.3.0,>=3.2.0->en-core-web-lg==3.2.0) (1.0.2)\n",
            "Requirement already satisfied: requests<3.0.0,>=2.13.0 in /usr/local/lib/python3.7/dist-packages (from spacy<3.3.0,>=3.2.0->en-core-web-lg==3.2.0) (2.23.0)\n",
            "Requirement already satisfied: murmurhash<1.1.0,>=0.28.0 in /usr/local/lib/python3.7/dist-packages (from spacy<3.3.0,>=3.2.0->en-core-web-lg==3.2.0) (1.0.6)\n",
            "Requirement already satisfied: tqdm<5.0.0,>=4.38.0 in /usr/local/lib/python3.7/dist-packages (from spacy<3.3.0,>=3.2.0->en-core-web-lg==3.2.0) (4.64.0)\n",
            "Requirement already satisfied: pathy>=0.3.5 in /usr/local/lib/python3.7/dist-packages (from spacy<3.3.0,>=3.2.0->en-core-web-lg==3.2.0) (0.6.1)\n",
            "Requirement already satisfied: catalogue<2.1.0,>=2.0.6 in /usr/local/lib/python3.7/dist-packages (from spacy<3.3.0,>=3.2.0->en-core-web-lg==3.2.0) (2.0.7)\n",
            "Requirement already satisfied: blis<0.8.0,>=0.4.0 in /usr/local/lib/python3.7/dist-packages (from spacy<3.3.0,>=3.2.0->en-core-web-lg==3.2.0) (0.4.1)\n",
            "Requirement already satisfied: click<8.1.0 in /usr/local/lib/python3.7/dist-packages (from spacy<3.3.0,>=3.2.0->en-core-web-lg==3.2.0) (7.1.2)\n",
            "Requirement already satisfied: packaging>=20.0 in /usr/local/lib/python3.7/dist-packages (from spacy<3.3.0,>=3.2.0->en-core-web-lg==3.2.0) (21.3)\n",
            "Requirement already satisfied: zipp>=0.5 in /usr/local/lib/python3.7/dist-packages (from catalogue<2.1.0,>=2.0.6->spacy<3.3.0,>=3.2.0->en-core-web-lg==3.2.0) (3.8.0)\n",
            "Requirement already satisfied: pyparsing!=3.0.5,>=2.0.2 in /usr/local/lib/python3.7/dist-packages (from packaging>=20.0->spacy<3.3.0,>=3.2.0->en-core-web-lg==3.2.0) (3.0.8)\n",
            "Requirement already satisfied: smart-open<6.0.0,>=5.0.0 in /usr/local/lib/python3.7/dist-packages (from pathy>=0.3.5->spacy<3.3.0,>=3.2.0->en-core-web-lg==3.2.0) (5.2.1)\n",
            "Requirement already satisfied: urllib3!=1.25.0,!=1.25.1,<1.26,>=1.21.1 in /usr/local/lib/python3.7/dist-packages (from requests<3.0.0,>=2.13.0->spacy<3.3.0,>=3.2.0->en-core-web-lg==3.2.0) (1.24.3)\n",
            "Requirement already satisfied: chardet<4,>=3.0.2 in /usr/local/lib/python3.7/dist-packages (from requests<3.0.0,>=2.13.0->spacy<3.3.0,>=3.2.0->en-core-web-lg==3.2.0) (3.0.4)\n",
            "Requirement already satisfied: idna<3,>=2.5 in /usr/local/lib/python3.7/dist-packages (from requests<3.0.0,>=2.13.0->spacy<3.3.0,>=3.2.0->en-core-web-lg==3.2.0) (2.10)\n",
            "Requirement already satisfied: certifi>=2017.4.17 in /usr/local/lib/python3.7/dist-packages (from requests<3.0.0,>=2.13.0->spacy<3.3.0,>=3.2.0->en-core-web-lg==3.2.0) (2021.10.8)\n",
            "Requirement already satisfied: MarkupSafe>=0.23 in /usr/local/lib/python3.7/dist-packages (from jinja2->spacy<3.3.0,>=3.2.0->en-core-web-lg==3.2.0) (2.0.1)\n",
            "\u001b[38;5;2m✔ Download and installation successful\u001b[0m\n",
            "You can now load the package via spacy.load('en_core_web_lg')\n"
          ]
        }
      ]
    },
    {
      "cell_type": "code",
      "source": [
        "import spacy\n",
        "import textacy\n",
        "from spacy import displacy"
      ],
      "metadata": {
        "id": "FEYKz2eyH3pR"
      },
      "execution_count": 2,
      "outputs": []
    },
    {
      "cell_type": "markdown",
      "source": [
        "# Loading the text file"
      ],
      "metadata": {
        "id": "ig658olmIxOw"
      }
    },
    {
      "cell_type": "code",
      "source": [
        "dic = spacy.load('en_core_web_lg')\n",
        "f = open('nlpcontent.txt','rt')"
      ],
      "metadata": {
        "id": "VONtTL3GIh8Y"
      },
      "execution_count": 3,
      "outputs": []
    },
    {
      "cell_type": "markdown",
      "source": [
        "# Sentence Segmentation"
      ],
      "metadata": {
        "id": "wKJc2uuGI3fv"
      }
    },
    {
      "cell_type": "code",
      "source": [
        "data = f.read()\n",
        "doc = dic(data)\n",
        "for s in doc.sents:\n",
        "    print(s)"
      ],
      "metadata": {
        "colab": {
          "base_uri": "https://localhost:8080/"
        },
        "id": "u_nsgeIwI2oB",
        "outputId": "7d41cd3f-da94-4f56-d613-e8bb7943d3d4"
      },
      "execution_count": 4,
      "outputs": [
        {
          "output_type": "stream",
          "name": "stdout",
          "text": [
            "Artificial intelligence (AI) is intelligence demonstrated by machines, as opposed to the natural intelligence displayed by animals including humans.\n",
            "Leading AI textbooks define the field as the study of \"intelligent agents\": any system that perceives its environment and takes actions that maximize its chance of achieving its goals.\n",
            "\n",
            "\n",
            "\n",
            "Some popular accounts use the term \"artificial intelligence\" to describe machines that mimic \"cognitive\" functions that humans associate with the human mind, such as \"learning\" and \"problem-solving\", however, this definition is rejected by major AI researchers.\n",
            "\n",
            "\n",
            "\n",
            "AI applications include advanced web search engines (e.g., Google), recommendation systems (used by YouTube, Amazon and Netflix), understanding human speech (such as Siri and Alexa), self-driving cars (e.g., Tesla), automated decision-making and competing at the highest level in strategic game systems (such as chess and Go).\n",
            "As machines become increasingly capable, tasks considered to require \"intelligence\" are often removed from the definition of AI, a phenomenon known as the AI effect.\n",
            "For instance, optical character recognition is frequently excluded from things considered to be AI, having become a routine technology.\n",
            "\n",
            "\n",
            "Artificial intelligence was founded as an academic discipline in 1956, and in the years since has experienced several waves of optimism, followed by disappointment and the loss of funding (known as an \"AI winter\"), followed by new approaches, success and renewed funding.\n",
            "AI research has tried and discarded many different approaches since its founding, including simulating the brain, modeling human problem solving, formal logic, large databases of knowledge and imitating animal behavior.\n",
            "In the first decades of the 21st century, highly mathematical-statistical machine learning has dominated the field, and this technique has proved highly successful, helping to solve many challenging problems throughout industry and academia.\n",
            "\n",
            "\n",
            "\n",
            "The various sub-fields of AI research are centered around particular goals and the use of particular tools.\n",
            "The traditional goals of AI research include reasoning, knowledge representation, planning, learning, natural language processing, perception, and the ability to move and manipulate objects.\n",
            "General intelligence (the ability to solve an arbitrary problem) is among the field's long-term goals.\n",
            "To solve these problems, AI researchers have adapted and integrated a wide range of problem-solving techniques—including search and mathematical optimization, formal logic, artificial neural networks, and methods based on statistics, probability and economics.\n",
            "AI also draws upon computer science, psychology, linguistics, philosophy, and many other fields.\n",
            "\n",
            "\n",
            "\n",
            "The field was founded on the assumption that human intelligence \"can be so precisely described that a machine can be made to simulate it\".\n",
            "This raises philosophical arguments about the mind and the ethics of creating artificial beings endowed with human-like intelligence.\n",
            "These issues have been explored by myth, fiction, and philosophy since antiquity.\n",
            "Science fiction and futurology have also suggested that, with its enormous potential and power, AI may become an existential risk to humanity.\n"
          ]
        }
      ]
    },
    {
      "cell_type": "markdown",
      "source": [
        "# Dependency Tree"
      ],
      "metadata": {
        "id": "s0xMqXgUKhUH"
      }
    },
    {
      "cell_type": "code",
      "source": [
        "tokens = dic(str(s))\n",
        "displacy.render(tokens, style='dep', jupyter=True, options={'distance':100})"
      ],
      "metadata": {
        "colab": {
          "base_uri": "https://localhost:8080/",
          "height": 528
        },
        "id": "O2LR8wMTJAfh",
        "outputId": "6343164b-e666-4268-e30a-33e131ebfa7c"
      },
      "execution_count": 5,
      "outputs": [
        {
          "output_type": "display_data",
          "data": {
            "text/plain": [
              "<IPython.core.display.HTML object>"
            ],
            "text/html": [
              "<span class=\"tex2jax_ignore\"><svg xmlns=\"http://www.w3.org/2000/svg\" xmlns:xlink=\"http://www.w3.org/1999/xlink\" xml:lang=\"en\" id=\"34dd244611564ce7881ef37ed1ec2190-0\" class=\"displacy\" width=\"2250\" height=\"487.0\" direction=\"ltr\" style=\"max-width: none; height: 487.0px; color: #000000; background: #ffffff; font-family: Arial; direction: ltr\">\n",
              "<text class=\"displacy-token\" fill=\"currentColor\" text-anchor=\"middle\" y=\"397.0\">\n",
              "    <tspan class=\"displacy-word\" fill=\"currentColor\" x=\"50\">Science</tspan>\n",
              "    <tspan class=\"displacy-tag\" dy=\"2em\" fill=\"currentColor\" x=\"50\">NOUN</tspan>\n",
              "</text>\n",
              "\n",
              "<text class=\"displacy-token\" fill=\"currentColor\" text-anchor=\"middle\" y=\"397.0\">\n",
              "    <tspan class=\"displacy-word\" fill=\"currentColor\" x=\"150\">fiction</tspan>\n",
              "    <tspan class=\"displacy-tag\" dy=\"2em\" fill=\"currentColor\" x=\"150\">NOUN</tspan>\n",
              "</text>\n",
              "\n",
              "<text class=\"displacy-token\" fill=\"currentColor\" text-anchor=\"middle\" y=\"397.0\">\n",
              "    <tspan class=\"displacy-word\" fill=\"currentColor\" x=\"250\">and</tspan>\n",
              "    <tspan class=\"displacy-tag\" dy=\"2em\" fill=\"currentColor\" x=\"250\">CCONJ</tspan>\n",
              "</text>\n",
              "\n",
              "<text class=\"displacy-token\" fill=\"currentColor\" text-anchor=\"middle\" y=\"397.0\">\n",
              "    <tspan class=\"displacy-word\" fill=\"currentColor\" x=\"350\">futurology</tspan>\n",
              "    <tspan class=\"displacy-tag\" dy=\"2em\" fill=\"currentColor\" x=\"350\">NOUN</tspan>\n",
              "</text>\n",
              "\n",
              "<text class=\"displacy-token\" fill=\"currentColor\" text-anchor=\"middle\" y=\"397.0\">\n",
              "    <tspan class=\"displacy-word\" fill=\"currentColor\" x=\"450\">have</tspan>\n",
              "    <tspan class=\"displacy-tag\" dy=\"2em\" fill=\"currentColor\" x=\"450\">AUX</tspan>\n",
              "</text>\n",
              "\n",
              "<text class=\"displacy-token\" fill=\"currentColor\" text-anchor=\"middle\" y=\"397.0\">\n",
              "    <tspan class=\"displacy-word\" fill=\"currentColor\" x=\"550\">also</tspan>\n",
              "    <tspan class=\"displacy-tag\" dy=\"2em\" fill=\"currentColor\" x=\"550\">ADV</tspan>\n",
              "</text>\n",
              "\n",
              "<text class=\"displacy-token\" fill=\"currentColor\" text-anchor=\"middle\" y=\"397.0\">\n",
              "    <tspan class=\"displacy-word\" fill=\"currentColor\" x=\"650\">suggested</tspan>\n",
              "    <tspan class=\"displacy-tag\" dy=\"2em\" fill=\"currentColor\" x=\"650\">VERB</tspan>\n",
              "</text>\n",
              "\n",
              "<text class=\"displacy-token\" fill=\"currentColor\" text-anchor=\"middle\" y=\"397.0\">\n",
              "    <tspan class=\"displacy-word\" fill=\"currentColor\" x=\"750\">that,</tspan>\n",
              "    <tspan class=\"displacy-tag\" dy=\"2em\" fill=\"currentColor\" x=\"750\">SCONJ</tspan>\n",
              "</text>\n",
              "\n",
              "<text class=\"displacy-token\" fill=\"currentColor\" text-anchor=\"middle\" y=\"397.0\">\n",
              "    <tspan class=\"displacy-word\" fill=\"currentColor\" x=\"850\">with</tspan>\n",
              "    <tspan class=\"displacy-tag\" dy=\"2em\" fill=\"currentColor\" x=\"850\">ADP</tspan>\n",
              "</text>\n",
              "\n",
              "<text class=\"displacy-token\" fill=\"currentColor\" text-anchor=\"middle\" y=\"397.0\">\n",
              "    <tspan class=\"displacy-word\" fill=\"currentColor\" x=\"950\">its</tspan>\n",
              "    <tspan class=\"displacy-tag\" dy=\"2em\" fill=\"currentColor\" x=\"950\">PRON</tspan>\n",
              "</text>\n",
              "\n",
              "<text class=\"displacy-token\" fill=\"currentColor\" text-anchor=\"middle\" y=\"397.0\">\n",
              "    <tspan class=\"displacy-word\" fill=\"currentColor\" x=\"1050\">enormous</tspan>\n",
              "    <tspan class=\"displacy-tag\" dy=\"2em\" fill=\"currentColor\" x=\"1050\">ADJ</tspan>\n",
              "</text>\n",
              "\n",
              "<text class=\"displacy-token\" fill=\"currentColor\" text-anchor=\"middle\" y=\"397.0\">\n",
              "    <tspan class=\"displacy-word\" fill=\"currentColor\" x=\"1150\">potential</tspan>\n",
              "    <tspan class=\"displacy-tag\" dy=\"2em\" fill=\"currentColor\" x=\"1150\">NOUN</tspan>\n",
              "</text>\n",
              "\n",
              "<text class=\"displacy-token\" fill=\"currentColor\" text-anchor=\"middle\" y=\"397.0\">\n",
              "    <tspan class=\"displacy-word\" fill=\"currentColor\" x=\"1250\">and</tspan>\n",
              "    <tspan class=\"displacy-tag\" dy=\"2em\" fill=\"currentColor\" x=\"1250\">CCONJ</tspan>\n",
              "</text>\n",
              "\n",
              "<text class=\"displacy-token\" fill=\"currentColor\" text-anchor=\"middle\" y=\"397.0\">\n",
              "    <tspan class=\"displacy-word\" fill=\"currentColor\" x=\"1350\">power,</tspan>\n",
              "    <tspan class=\"displacy-tag\" dy=\"2em\" fill=\"currentColor\" x=\"1350\">NOUN</tspan>\n",
              "</text>\n",
              "\n",
              "<text class=\"displacy-token\" fill=\"currentColor\" text-anchor=\"middle\" y=\"397.0\">\n",
              "    <tspan class=\"displacy-word\" fill=\"currentColor\" x=\"1450\">AI</tspan>\n",
              "    <tspan class=\"displacy-tag\" dy=\"2em\" fill=\"currentColor\" x=\"1450\">PROPN</tspan>\n",
              "</text>\n",
              "\n",
              "<text class=\"displacy-token\" fill=\"currentColor\" text-anchor=\"middle\" y=\"397.0\">\n",
              "    <tspan class=\"displacy-word\" fill=\"currentColor\" x=\"1550\">may</tspan>\n",
              "    <tspan class=\"displacy-tag\" dy=\"2em\" fill=\"currentColor\" x=\"1550\">AUX</tspan>\n",
              "</text>\n",
              "\n",
              "<text class=\"displacy-token\" fill=\"currentColor\" text-anchor=\"middle\" y=\"397.0\">\n",
              "    <tspan class=\"displacy-word\" fill=\"currentColor\" x=\"1650\">become</tspan>\n",
              "    <tspan class=\"displacy-tag\" dy=\"2em\" fill=\"currentColor\" x=\"1650\">VERB</tspan>\n",
              "</text>\n",
              "\n",
              "<text class=\"displacy-token\" fill=\"currentColor\" text-anchor=\"middle\" y=\"397.0\">\n",
              "    <tspan class=\"displacy-word\" fill=\"currentColor\" x=\"1750\">an</tspan>\n",
              "    <tspan class=\"displacy-tag\" dy=\"2em\" fill=\"currentColor\" x=\"1750\">DET</tspan>\n",
              "</text>\n",
              "\n",
              "<text class=\"displacy-token\" fill=\"currentColor\" text-anchor=\"middle\" y=\"397.0\">\n",
              "    <tspan class=\"displacy-word\" fill=\"currentColor\" x=\"1850\">existential</tspan>\n",
              "    <tspan class=\"displacy-tag\" dy=\"2em\" fill=\"currentColor\" x=\"1850\">ADJ</tspan>\n",
              "</text>\n",
              "\n",
              "<text class=\"displacy-token\" fill=\"currentColor\" text-anchor=\"middle\" y=\"397.0\">\n",
              "    <tspan class=\"displacy-word\" fill=\"currentColor\" x=\"1950\">risk</tspan>\n",
              "    <tspan class=\"displacy-tag\" dy=\"2em\" fill=\"currentColor\" x=\"1950\">NOUN</tspan>\n",
              "</text>\n",
              "\n",
              "<text class=\"displacy-token\" fill=\"currentColor\" text-anchor=\"middle\" y=\"397.0\">\n",
              "    <tspan class=\"displacy-word\" fill=\"currentColor\" x=\"2050\">to</tspan>\n",
              "    <tspan class=\"displacy-tag\" dy=\"2em\" fill=\"currentColor\" x=\"2050\">ADP</tspan>\n",
              "</text>\n",
              "\n",
              "<text class=\"displacy-token\" fill=\"currentColor\" text-anchor=\"middle\" y=\"397.0\">\n",
              "    <tspan class=\"displacy-word\" fill=\"currentColor\" x=\"2150\">humanity.</tspan>\n",
              "    <tspan class=\"displacy-tag\" dy=\"2em\" fill=\"currentColor\" x=\"2150\">NOUN</tspan>\n",
              "</text>\n",
              "\n",
              "<g class=\"displacy-arrow\">\n",
              "    <path class=\"displacy-arc\" id=\"arrow-34dd244611564ce7881ef37ed1ec2190-0-0\" stroke-width=\"2px\" d=\"M70,352.0 C70,302.0 120.0,302.0 120.0,352.0\" fill=\"none\" stroke=\"currentColor\"/>\n",
              "    <text dy=\"1.25em\" style=\"font-size: 0.8em; letter-spacing: 1px\">\n",
              "        <textPath xlink:href=\"#arrow-34dd244611564ce7881ef37ed1ec2190-0-0\" class=\"displacy-label\" startOffset=\"50%\" side=\"left\" fill=\"currentColor\" text-anchor=\"middle\">compound</textPath>\n",
              "    </text>\n",
              "    <path class=\"displacy-arrowhead\" d=\"M70,354.0 L62,342.0 78,342.0\" fill=\"currentColor\"/>\n",
              "</g>\n",
              "\n",
              "<g class=\"displacy-arrow\">\n",
              "    <path class=\"displacy-arc\" id=\"arrow-34dd244611564ce7881ef37ed1ec2190-0-1\" stroke-width=\"2px\" d=\"M170,352.0 C170,152.0 635.0,152.0 635.0,352.0\" fill=\"none\" stroke=\"currentColor\"/>\n",
              "    <text dy=\"1.25em\" style=\"font-size: 0.8em; letter-spacing: 1px\">\n",
              "        <textPath xlink:href=\"#arrow-34dd244611564ce7881ef37ed1ec2190-0-1\" class=\"displacy-label\" startOffset=\"50%\" side=\"left\" fill=\"currentColor\" text-anchor=\"middle\">nsubj</textPath>\n",
              "    </text>\n",
              "    <path class=\"displacy-arrowhead\" d=\"M170,354.0 L162,342.0 178,342.0\" fill=\"currentColor\"/>\n",
              "</g>\n",
              "\n",
              "<g class=\"displacy-arrow\">\n",
              "    <path class=\"displacy-arc\" id=\"arrow-34dd244611564ce7881ef37ed1ec2190-0-2\" stroke-width=\"2px\" d=\"M170,352.0 C170,302.0 220.0,302.0 220.0,352.0\" fill=\"none\" stroke=\"currentColor\"/>\n",
              "    <text dy=\"1.25em\" style=\"font-size: 0.8em; letter-spacing: 1px\">\n",
              "        <textPath xlink:href=\"#arrow-34dd244611564ce7881ef37ed1ec2190-0-2\" class=\"displacy-label\" startOffset=\"50%\" side=\"left\" fill=\"currentColor\" text-anchor=\"middle\">cc</textPath>\n",
              "    </text>\n",
              "    <path class=\"displacy-arrowhead\" d=\"M220.0,354.0 L228.0,342.0 212.0,342.0\" fill=\"currentColor\"/>\n",
              "</g>\n",
              "\n",
              "<g class=\"displacy-arrow\">\n",
              "    <path class=\"displacy-arc\" id=\"arrow-34dd244611564ce7881ef37ed1ec2190-0-3\" stroke-width=\"2px\" d=\"M170,352.0 C170,252.0 325.0,252.0 325.0,352.0\" fill=\"none\" stroke=\"currentColor\"/>\n",
              "    <text dy=\"1.25em\" style=\"font-size: 0.8em; letter-spacing: 1px\">\n",
              "        <textPath xlink:href=\"#arrow-34dd244611564ce7881ef37ed1ec2190-0-3\" class=\"displacy-label\" startOffset=\"50%\" side=\"left\" fill=\"currentColor\" text-anchor=\"middle\">conj</textPath>\n",
              "    </text>\n",
              "    <path class=\"displacy-arrowhead\" d=\"M325.0,354.0 L333.0,342.0 317.0,342.0\" fill=\"currentColor\"/>\n",
              "</g>\n",
              "\n",
              "<g class=\"displacy-arrow\">\n",
              "    <path class=\"displacy-arc\" id=\"arrow-34dd244611564ce7881ef37ed1ec2190-0-4\" stroke-width=\"2px\" d=\"M470,352.0 C470,252.0 625.0,252.0 625.0,352.0\" fill=\"none\" stroke=\"currentColor\"/>\n",
              "    <text dy=\"1.25em\" style=\"font-size: 0.8em; letter-spacing: 1px\">\n",
              "        <textPath xlink:href=\"#arrow-34dd244611564ce7881ef37ed1ec2190-0-4\" class=\"displacy-label\" startOffset=\"50%\" side=\"left\" fill=\"currentColor\" text-anchor=\"middle\">aux</textPath>\n",
              "    </text>\n",
              "    <path class=\"displacy-arrowhead\" d=\"M470,354.0 L462,342.0 478,342.0\" fill=\"currentColor\"/>\n",
              "</g>\n",
              "\n",
              "<g class=\"displacy-arrow\">\n",
              "    <path class=\"displacy-arc\" id=\"arrow-34dd244611564ce7881ef37ed1ec2190-0-5\" stroke-width=\"2px\" d=\"M570,352.0 C570,302.0 620.0,302.0 620.0,352.0\" fill=\"none\" stroke=\"currentColor\"/>\n",
              "    <text dy=\"1.25em\" style=\"font-size: 0.8em; letter-spacing: 1px\">\n",
              "        <textPath xlink:href=\"#arrow-34dd244611564ce7881ef37ed1ec2190-0-5\" class=\"displacy-label\" startOffset=\"50%\" side=\"left\" fill=\"currentColor\" text-anchor=\"middle\">advmod</textPath>\n",
              "    </text>\n",
              "    <path class=\"displacy-arrowhead\" d=\"M570,354.0 L562,342.0 578,342.0\" fill=\"currentColor\"/>\n",
              "</g>\n",
              "\n",
              "<g class=\"displacy-arrow\">\n",
              "    <path class=\"displacy-arc\" id=\"arrow-34dd244611564ce7881ef37ed1ec2190-0-6\" stroke-width=\"2px\" d=\"M770,352.0 C770,52.0 1645.0,52.0 1645.0,352.0\" fill=\"none\" stroke=\"currentColor\"/>\n",
              "    <text dy=\"1.25em\" style=\"font-size: 0.8em; letter-spacing: 1px\">\n",
              "        <textPath xlink:href=\"#arrow-34dd244611564ce7881ef37ed1ec2190-0-6\" class=\"displacy-label\" startOffset=\"50%\" side=\"left\" fill=\"currentColor\" text-anchor=\"middle\">mark</textPath>\n",
              "    </text>\n",
              "    <path class=\"displacy-arrowhead\" d=\"M770,354.0 L762,342.0 778,342.0\" fill=\"currentColor\"/>\n",
              "</g>\n",
              "\n",
              "<g class=\"displacy-arrow\">\n",
              "    <path class=\"displacy-arc\" id=\"arrow-34dd244611564ce7881ef37ed1ec2190-0-7\" stroke-width=\"2px\" d=\"M870,352.0 C870,102.0 1640.0,102.0 1640.0,352.0\" fill=\"none\" stroke=\"currentColor\"/>\n",
              "    <text dy=\"1.25em\" style=\"font-size: 0.8em; letter-spacing: 1px\">\n",
              "        <textPath xlink:href=\"#arrow-34dd244611564ce7881ef37ed1ec2190-0-7\" class=\"displacy-label\" startOffset=\"50%\" side=\"left\" fill=\"currentColor\" text-anchor=\"middle\">prep</textPath>\n",
              "    </text>\n",
              "    <path class=\"displacy-arrowhead\" d=\"M870,354.0 L862,342.0 878,342.0\" fill=\"currentColor\"/>\n",
              "</g>\n",
              "\n",
              "<g class=\"displacy-arrow\">\n",
              "    <path class=\"displacy-arc\" id=\"arrow-34dd244611564ce7881ef37ed1ec2190-0-8\" stroke-width=\"2px\" d=\"M970,352.0 C970,252.0 1125.0,252.0 1125.0,352.0\" fill=\"none\" stroke=\"currentColor\"/>\n",
              "    <text dy=\"1.25em\" style=\"font-size: 0.8em; letter-spacing: 1px\">\n",
              "        <textPath xlink:href=\"#arrow-34dd244611564ce7881ef37ed1ec2190-0-8\" class=\"displacy-label\" startOffset=\"50%\" side=\"left\" fill=\"currentColor\" text-anchor=\"middle\">poss</textPath>\n",
              "    </text>\n",
              "    <path class=\"displacy-arrowhead\" d=\"M970,354.0 L962,342.0 978,342.0\" fill=\"currentColor\"/>\n",
              "</g>\n",
              "\n",
              "<g class=\"displacy-arrow\">\n",
              "    <path class=\"displacy-arc\" id=\"arrow-34dd244611564ce7881ef37ed1ec2190-0-9\" stroke-width=\"2px\" d=\"M1070,352.0 C1070,302.0 1120.0,302.0 1120.0,352.0\" fill=\"none\" stroke=\"currentColor\"/>\n",
              "    <text dy=\"1.25em\" style=\"font-size: 0.8em; letter-spacing: 1px\">\n",
              "        <textPath xlink:href=\"#arrow-34dd244611564ce7881ef37ed1ec2190-0-9\" class=\"displacy-label\" startOffset=\"50%\" side=\"left\" fill=\"currentColor\" text-anchor=\"middle\">amod</textPath>\n",
              "    </text>\n",
              "    <path class=\"displacy-arrowhead\" d=\"M1070,354.0 L1062,342.0 1078,342.0\" fill=\"currentColor\"/>\n",
              "</g>\n",
              "\n",
              "<g class=\"displacy-arrow\">\n",
              "    <path class=\"displacy-arc\" id=\"arrow-34dd244611564ce7881ef37ed1ec2190-0-10\" stroke-width=\"2px\" d=\"M870,352.0 C870,202.0 1130.0,202.0 1130.0,352.0\" fill=\"none\" stroke=\"currentColor\"/>\n",
              "    <text dy=\"1.25em\" style=\"font-size: 0.8em; letter-spacing: 1px\">\n",
              "        <textPath xlink:href=\"#arrow-34dd244611564ce7881ef37ed1ec2190-0-10\" class=\"displacy-label\" startOffset=\"50%\" side=\"left\" fill=\"currentColor\" text-anchor=\"middle\">pobj</textPath>\n",
              "    </text>\n",
              "    <path class=\"displacy-arrowhead\" d=\"M1130.0,354.0 L1138.0,342.0 1122.0,342.0\" fill=\"currentColor\"/>\n",
              "</g>\n",
              "\n",
              "<g class=\"displacy-arrow\">\n",
              "    <path class=\"displacy-arc\" id=\"arrow-34dd244611564ce7881ef37ed1ec2190-0-11\" stroke-width=\"2px\" d=\"M1170,352.0 C1170,302.0 1220.0,302.0 1220.0,352.0\" fill=\"none\" stroke=\"currentColor\"/>\n",
              "    <text dy=\"1.25em\" style=\"font-size: 0.8em; letter-spacing: 1px\">\n",
              "        <textPath xlink:href=\"#arrow-34dd244611564ce7881ef37ed1ec2190-0-11\" class=\"displacy-label\" startOffset=\"50%\" side=\"left\" fill=\"currentColor\" text-anchor=\"middle\">cc</textPath>\n",
              "    </text>\n",
              "    <path class=\"displacy-arrowhead\" d=\"M1220.0,354.0 L1228.0,342.0 1212.0,342.0\" fill=\"currentColor\"/>\n",
              "</g>\n",
              "\n",
              "<g class=\"displacy-arrow\">\n",
              "    <path class=\"displacy-arc\" id=\"arrow-34dd244611564ce7881ef37ed1ec2190-0-12\" stroke-width=\"2px\" d=\"M1170,352.0 C1170,252.0 1325.0,252.0 1325.0,352.0\" fill=\"none\" stroke=\"currentColor\"/>\n",
              "    <text dy=\"1.25em\" style=\"font-size: 0.8em; letter-spacing: 1px\">\n",
              "        <textPath xlink:href=\"#arrow-34dd244611564ce7881ef37ed1ec2190-0-12\" class=\"displacy-label\" startOffset=\"50%\" side=\"left\" fill=\"currentColor\" text-anchor=\"middle\">conj</textPath>\n",
              "    </text>\n",
              "    <path class=\"displacy-arrowhead\" d=\"M1325.0,354.0 L1333.0,342.0 1317.0,342.0\" fill=\"currentColor\"/>\n",
              "</g>\n",
              "\n",
              "<g class=\"displacy-arrow\">\n",
              "    <path class=\"displacy-arc\" id=\"arrow-34dd244611564ce7881ef37ed1ec2190-0-13\" stroke-width=\"2px\" d=\"M1470,352.0 C1470,252.0 1625.0,252.0 1625.0,352.0\" fill=\"none\" stroke=\"currentColor\"/>\n",
              "    <text dy=\"1.25em\" style=\"font-size: 0.8em; letter-spacing: 1px\">\n",
              "        <textPath xlink:href=\"#arrow-34dd244611564ce7881ef37ed1ec2190-0-13\" class=\"displacy-label\" startOffset=\"50%\" side=\"left\" fill=\"currentColor\" text-anchor=\"middle\">nsubj</textPath>\n",
              "    </text>\n",
              "    <path class=\"displacy-arrowhead\" d=\"M1470,354.0 L1462,342.0 1478,342.0\" fill=\"currentColor\"/>\n",
              "</g>\n",
              "\n",
              "<g class=\"displacy-arrow\">\n",
              "    <path class=\"displacy-arc\" id=\"arrow-34dd244611564ce7881ef37ed1ec2190-0-14\" stroke-width=\"2px\" d=\"M1570,352.0 C1570,302.0 1620.0,302.0 1620.0,352.0\" fill=\"none\" stroke=\"currentColor\"/>\n",
              "    <text dy=\"1.25em\" style=\"font-size: 0.8em; letter-spacing: 1px\">\n",
              "        <textPath xlink:href=\"#arrow-34dd244611564ce7881ef37ed1ec2190-0-14\" class=\"displacy-label\" startOffset=\"50%\" side=\"left\" fill=\"currentColor\" text-anchor=\"middle\">aux</textPath>\n",
              "    </text>\n",
              "    <path class=\"displacy-arrowhead\" d=\"M1570,354.0 L1562,342.0 1578,342.0\" fill=\"currentColor\"/>\n",
              "</g>\n",
              "\n",
              "<g class=\"displacy-arrow\">\n",
              "    <path class=\"displacy-arc\" id=\"arrow-34dd244611564ce7881ef37ed1ec2190-0-15\" stroke-width=\"2px\" d=\"M670,352.0 C670,2.0 1650.0,2.0 1650.0,352.0\" fill=\"none\" stroke=\"currentColor\"/>\n",
              "    <text dy=\"1.25em\" style=\"font-size: 0.8em; letter-spacing: 1px\">\n",
              "        <textPath xlink:href=\"#arrow-34dd244611564ce7881ef37ed1ec2190-0-15\" class=\"displacy-label\" startOffset=\"50%\" side=\"left\" fill=\"currentColor\" text-anchor=\"middle\">ccomp</textPath>\n",
              "    </text>\n",
              "    <path class=\"displacy-arrowhead\" d=\"M1650.0,354.0 L1658.0,342.0 1642.0,342.0\" fill=\"currentColor\"/>\n",
              "</g>\n",
              "\n",
              "<g class=\"displacy-arrow\">\n",
              "    <path class=\"displacy-arc\" id=\"arrow-34dd244611564ce7881ef37ed1ec2190-0-16\" stroke-width=\"2px\" d=\"M1770,352.0 C1770,252.0 1925.0,252.0 1925.0,352.0\" fill=\"none\" stroke=\"currentColor\"/>\n",
              "    <text dy=\"1.25em\" style=\"font-size: 0.8em; letter-spacing: 1px\">\n",
              "        <textPath xlink:href=\"#arrow-34dd244611564ce7881ef37ed1ec2190-0-16\" class=\"displacy-label\" startOffset=\"50%\" side=\"left\" fill=\"currentColor\" text-anchor=\"middle\">det</textPath>\n",
              "    </text>\n",
              "    <path class=\"displacy-arrowhead\" d=\"M1770,354.0 L1762,342.0 1778,342.0\" fill=\"currentColor\"/>\n",
              "</g>\n",
              "\n",
              "<g class=\"displacy-arrow\">\n",
              "    <path class=\"displacy-arc\" id=\"arrow-34dd244611564ce7881ef37ed1ec2190-0-17\" stroke-width=\"2px\" d=\"M1870,352.0 C1870,302.0 1920.0,302.0 1920.0,352.0\" fill=\"none\" stroke=\"currentColor\"/>\n",
              "    <text dy=\"1.25em\" style=\"font-size: 0.8em; letter-spacing: 1px\">\n",
              "        <textPath xlink:href=\"#arrow-34dd244611564ce7881ef37ed1ec2190-0-17\" class=\"displacy-label\" startOffset=\"50%\" side=\"left\" fill=\"currentColor\" text-anchor=\"middle\">amod</textPath>\n",
              "    </text>\n",
              "    <path class=\"displacy-arrowhead\" d=\"M1870,354.0 L1862,342.0 1878,342.0\" fill=\"currentColor\"/>\n",
              "</g>\n",
              "\n",
              "<g class=\"displacy-arrow\">\n",
              "    <path class=\"displacy-arc\" id=\"arrow-34dd244611564ce7881ef37ed1ec2190-0-18\" stroke-width=\"2px\" d=\"M1670,352.0 C1670,202.0 1930.0,202.0 1930.0,352.0\" fill=\"none\" stroke=\"currentColor\"/>\n",
              "    <text dy=\"1.25em\" style=\"font-size: 0.8em; letter-spacing: 1px\">\n",
              "        <textPath xlink:href=\"#arrow-34dd244611564ce7881ef37ed1ec2190-0-18\" class=\"displacy-label\" startOffset=\"50%\" side=\"left\" fill=\"currentColor\" text-anchor=\"middle\">attr</textPath>\n",
              "    </text>\n",
              "    <path class=\"displacy-arrowhead\" d=\"M1930.0,354.0 L1938.0,342.0 1922.0,342.0\" fill=\"currentColor\"/>\n",
              "</g>\n",
              "\n",
              "<g class=\"displacy-arrow\">\n",
              "    <path class=\"displacy-arc\" id=\"arrow-34dd244611564ce7881ef37ed1ec2190-0-19\" stroke-width=\"2px\" d=\"M1970,352.0 C1970,302.0 2020.0,302.0 2020.0,352.0\" fill=\"none\" stroke=\"currentColor\"/>\n",
              "    <text dy=\"1.25em\" style=\"font-size: 0.8em; letter-spacing: 1px\">\n",
              "        <textPath xlink:href=\"#arrow-34dd244611564ce7881ef37ed1ec2190-0-19\" class=\"displacy-label\" startOffset=\"50%\" side=\"left\" fill=\"currentColor\" text-anchor=\"middle\">prep</textPath>\n",
              "    </text>\n",
              "    <path class=\"displacy-arrowhead\" d=\"M2020.0,354.0 L2028.0,342.0 2012.0,342.0\" fill=\"currentColor\"/>\n",
              "</g>\n",
              "\n",
              "<g class=\"displacy-arrow\">\n",
              "    <path class=\"displacy-arc\" id=\"arrow-34dd244611564ce7881ef37ed1ec2190-0-20\" stroke-width=\"2px\" d=\"M2070,352.0 C2070,302.0 2120.0,302.0 2120.0,352.0\" fill=\"none\" stroke=\"currentColor\"/>\n",
              "    <text dy=\"1.25em\" style=\"font-size: 0.8em; letter-spacing: 1px\">\n",
              "        <textPath xlink:href=\"#arrow-34dd244611564ce7881ef37ed1ec2190-0-20\" class=\"displacy-label\" startOffset=\"50%\" side=\"left\" fill=\"currentColor\" text-anchor=\"middle\">pobj</textPath>\n",
              "    </text>\n",
              "    <path class=\"displacy-arrowhead\" d=\"M2120.0,354.0 L2128.0,342.0 2112.0,342.0\" fill=\"currentColor\"/>\n",
              "</g>\n",
              "</svg></span>"
            ]
          },
          "metadata": {}
        }
      ]
    },
    {
      "cell_type": "markdown",
      "source": [
        "# Tokenization"
      ],
      "metadata": {
        "id": "fNI55fb0Krri"
      }
    },
    {
      "cell_type": "code",
      "source": [
        "for x in doc[:50]:\n",
        "  print(x.text)"
      ],
      "metadata": {
        "colab": {
          "base_uri": "https://localhost:8080/"
        },
        "id": "aJ7iHIMNJ1KO",
        "outputId": "fdc1da7f-38c3-4391-e645-973079e91589"
      },
      "execution_count": 6,
      "outputs": [
        {
          "output_type": "stream",
          "name": "stdout",
          "text": [
            "Artificial\n",
            "intelligence\n",
            "(\n",
            "AI\n",
            ")\n",
            "is\n",
            "intelligence\n",
            "demonstrated\n",
            "by\n",
            "machines\n",
            ",\n",
            "as\n",
            "opposed\n",
            "to\n",
            "the\n",
            "natural\n",
            "intelligence\n",
            "displayed\n",
            "by\n",
            "animals\n",
            "including\n",
            "humans\n",
            ".\n",
            "Leading\n",
            "AI\n",
            "textbooks\n",
            "define\n",
            "the\n",
            "field\n",
            "as\n",
            "the\n",
            "study\n",
            "of\n",
            "\"\n",
            "intelligent\n",
            "agents\n",
            "\"\n",
            ":\n",
            "any\n",
            "system\n",
            "that\n",
            "perceives\n",
            "its\n",
            "environment\n",
            "and\n",
            "takes\n",
            "actions\n",
            "that\n",
            "maximize\n",
            "its\n"
          ]
        }
      ]
    },
    {
      "cell_type": "markdown",
      "source": [
        "# Parts of Speech Tagging"
      ],
      "metadata": {
        "id": "FFskyyqZLGJ5"
      }
    },
    {
      "cell_type": "code",
      "source": [
        "for token in doc[50:100]:\n",
        "  print(token, \"is a\", token.pos_)"
      ],
      "metadata": {
        "colab": {
          "base_uri": "https://localhost:8080/"
        },
        "id": "Nmd5LkuTKpHT",
        "outputId": "3aa49ed9-dd40-4d77-e91c-ddf9dde575ea"
      },
      "execution_count": 7,
      "outputs": [
        {
          "output_type": "stream",
          "name": "stdout",
          "text": [
            "chance is a NOUN\n",
            "of is a ADP\n",
            "achieving is a VERB\n",
            "its is a PRON\n",
            "goals is a NOUN\n",
            ". is a PUNCT\n",
            "\n",
            "\n",
            " is a SPACE\n",
            "Some is a DET\n",
            "popular is a ADJ\n",
            "accounts is a NOUN\n",
            "use is a VERB\n",
            "the is a DET\n",
            "term is a NOUN\n",
            "\" is a PUNCT\n",
            "artificial is a ADJ\n",
            "intelligence is a NOUN\n",
            "\" is a PUNCT\n",
            "to is a PART\n",
            "describe is a VERB\n",
            "machines is a NOUN\n",
            "that is a PRON\n",
            "mimic is a VERB\n",
            "\" is a PUNCT\n",
            "cognitive is a ADJ\n",
            "\" is a PUNCT\n",
            "functions is a NOUN\n",
            "that is a PRON\n",
            "humans is a NOUN\n",
            "associate is a VERB\n",
            "with is a ADP\n",
            "the is a DET\n",
            "human is a ADJ\n",
            "mind is a NOUN\n",
            ", is a PUNCT\n",
            "such is a ADJ\n",
            "as is a ADP\n",
            "\" is a PUNCT\n",
            "learning is a NOUN\n",
            "\" is a PUNCT\n",
            "and is a CCONJ\n",
            "\" is a PUNCT\n",
            "problem is a NOUN\n",
            "- is a PUNCT\n",
            "solving is a NOUN\n",
            "\" is a PUNCT\n",
            ", is a PUNCT\n",
            "however is a ADV\n",
            ", is a PUNCT\n",
            "this is a DET\n",
            "definition is a NOUN\n"
          ]
        }
      ]
    },
    {
      "cell_type": "markdown",
      "source": [
        "# Lemmatization"
      ],
      "metadata": {
        "id": "_BYoyc9YLeRk"
      }
    },
    {
      "cell_type": "code",
      "source": [
        "lemma_doc = \"\"\n",
        "for token in doc:\n",
        "  lemma_doc += token.lemma_ + \" \"\n",
        "  if str(token).lower() != str(token.lemma_).lower():\n",
        "    print(token, \"becomes\", token.lemma_)"
      ],
      "metadata": {
        "colab": {
          "base_uri": "https://localhost:8080/"
        },
        "id": "pTF8zIKfLMO6",
        "outputId": "b8e0746b-af2e-427f-8fa8-d5e423f028df"
      },
      "execution_count": 8,
      "outputs": [
        {
          "output_type": "stream",
          "name": "stdout",
          "text": [
            "is becomes be\n",
            "demonstrated becomes demonstrate\n",
            "machines becomes machine\n",
            "opposed becomes oppose\n",
            "displayed becomes display\n",
            "animals becomes animal\n",
            "including becomes include\n",
            "humans becomes human\n",
            "Leading becomes lead\n",
            "textbooks becomes textbook\n",
            "agents becomes agent\n",
            "perceives becomes perceive\n",
            "takes becomes take\n",
            "actions becomes action\n",
            "achieving becomes achieve\n",
            "goals becomes goal\n",
            "accounts becomes account\n",
            "machines becomes machine\n",
            "functions becomes function\n",
            "humans becomes human\n",
            "is becomes be\n",
            "rejected becomes reject\n",
            "researchers becomes researcher\n",
            "applications becomes application\n",
            "engines becomes engine\n",
            "systems becomes system\n",
            "used becomes use\n",
            "understanding becomes understand\n",
            "driving becomes drive\n",
            "cars becomes car\n",
            "automated becomes automate\n",
            "competing becomes compete\n",
            "highest becomes high\n",
            "systems becomes system\n",
            "machines becomes machine\n",
            "tasks becomes task\n",
            "considered becomes consider\n",
            "are becomes be\n",
            "removed becomes remove\n",
            "known becomes know\n",
            "is becomes be\n",
            "excluded becomes exclude\n",
            "things becomes thing\n",
            "considered becomes consider\n",
            "was becomes be\n",
            "founded becomes found\n",
            "years becomes year\n",
            "has becomes have\n",
            "experienced becomes experience\n",
            "waves becomes wave\n",
            "followed becomes follow\n",
            "known becomes know\n",
            "followed becomes follow\n",
            "approaches becomes approach\n",
            "renewed becomes renew\n",
            "has becomes have\n",
            "tried becomes try\n",
            "discarded becomes discard\n",
            "approaches becomes approach\n",
            "including becomes include\n",
            "simulating becomes simulate\n",
            "modeling becomes model\n",
            "databases becomes database\n",
            "imitating becomes imitate\n",
            "decades becomes decade\n",
            "has becomes have\n",
            "dominated becomes dominate\n",
            "has becomes have\n",
            "proved becomes prove\n",
            "helping becomes help\n",
            "problems becomes problem\n",
            "fields becomes field\n",
            "are becomes be\n",
            "centered becomes center\n",
            "goals becomes goal\n",
            "tools becomes tool\n",
            "goals becomes goal\n",
            "objects becomes object\n",
            "is becomes be\n",
            "goals becomes goal\n",
            "problems becomes problem\n",
            "researchers becomes researcher\n",
            "adapted becomes adapt\n",
            "integrated becomes integrate\n",
            "solving becomes solve\n",
            "techniques becomes technique\n",
            "including becomes include\n",
            "networks becomes network\n",
            "methods becomes method\n",
            "based becomes base\n",
            "statistics becomes statistic\n",
            "economics becomes economic\n",
            "draws becomes draw\n",
            "fields becomes field\n",
            "was becomes be\n",
            "founded becomes found\n",
            "described becomes describe\n",
            "made becomes make\n",
            "raises becomes raise\n",
            "arguments becomes argument\n",
            "ethics becomes ethic\n",
            "creating becomes create\n",
            "beings becomes being\n",
            "endowed becomes endow\n",
            "issues becomes issue\n",
            "been becomes be\n",
            "explored becomes explore\n",
            "suggested becomes suggest\n"
          ]
        }
      ]
    },
    {
      "cell_type": "code",
      "source": [
        "lemma_doc"
      ],
      "metadata": {
        "colab": {
          "base_uri": "https://localhost:8080/",
          "height": 122
        },
        "id": "1OLlXhu_OM6g",
        "outputId": "15f85d60-2475-40da-821c-33d49089100f"
      },
      "execution_count": 9,
      "outputs": [
        {
          "output_type": "execute_result",
          "data": {
            "text/plain": [
              "'artificial intelligence ( AI ) be intelligence demonstrate by machine , as oppose to the natural intelligence display by animal include human . lead AI textbook define the field as the study of \" intelligent agent \" : any system that perceive its environment and take action that maximize its chance of achieve its goal . \\n\\n some popular account use the term \" artificial intelligence \" to describe machine that mimic \" cognitive \" function that human associate with the human mind , such as \" learning \" and \" problem - solving \" , however , this definition be reject by major AI researcher . \\n\\n AI application include advanced web search engine ( e.g. , Google ) , recommendation system ( use by YouTube , Amazon and Netflix ) , understand human speech ( such as Siri and Alexa ) , self - drive car ( e.g. , Tesla ) , automate decision - making and compete at the high level in strategic game system ( such as chess and go ) . as machine become increasingly capable , task consider to require \" intelligence \" be often remove from the definition of AI , a phenomenon know as the AI effect . for instance , optical character recognition be frequently exclude from thing consider to be AI , having become a routine technology . \\n\\n artificial intelligence be found as an academic discipline in 1956 , and in the year since have experience several wave of optimism , follow by disappointment and the loss of funding ( know as an \" AI winter \" ) , follow by new approach , success and renew funding . AI research have try and discard many different approach since its founding , include simulate the brain , model human problem solving , formal logic , large database of knowledge and imitate animal behavior . in the first decade of the 21st century , highly mathematical - statistical machine learning have dominate the field , and this technique have prove highly successful , help to solve many challenging problem throughout industry and academia . \\n\\n the various sub - field of AI research be center around particular goal and the use of particular tool . the traditional goal of AI research include reasoning , knowledge representation , planning , learning , natural language processing , perception , and the ability to move and manipulate object . general intelligence ( the ability to solve an arbitrary problem ) be among the field \\'s long - term goal . to solve these problem , AI researcher have adapt and integrate a wide range of problem - solve technique — include search and mathematical optimization , formal logic , artificial neural network , and method base on statistic , probability and economic . AI also draw upon computer science , psychology , linguistics , philosophy , and many other field . \\n\\n the field be found on the assumption that human intelligence \" can be so precisely describe that a machine can be make to simulate it \" . this raise philosophical argument about the mind and the ethic of create artificial being endow with human - like intelligence . these issue have be explore by myth , fiction , and philosophy since antiquity . science fiction and futurology have also suggest that , with its enormous potential and power , AI may become an existential risk to humanity . '"
            ],
            "application/vnd.google.colaboratory.intrinsic+json": {
              "type": "string"
            }
          },
          "metadata": {},
          "execution_count": 9
        }
      ]
    },
    {
      "cell_type": "markdown",
      "source": [
        "# Stopwords"
      ],
      "metadata": {
        "id": "omC8b8s4MlYu"
      }
    },
    {
      "cell_type": "code",
      "source": [
        "stopwords = dic.Defaults.stop_words\n",
        "ls=[]\n",
        "for token in data.split():\n",
        "    if token.lower() not in stopwords:\n",
        "        ls.append(token)"
      ],
      "metadata": {
        "id": "EriuXk_SLt_M"
      },
      "execution_count": 10,
      "outputs": []
    },
    {
      "cell_type": "code",
      "source": [
        "print(ls)"
      ],
      "metadata": {
        "colab": {
          "base_uri": "https://localhost:8080/"
        },
        "id": "AHUZhyqkMrY4",
        "outputId": "1fd9c195-9cc6-4d66-9a35-131e5a7842f7"
      },
      "execution_count": 11,
      "outputs": [
        {
          "output_type": "stream",
          "name": "stdout",
          "text": [
            "['Artificial', 'intelligence', '(AI)', 'intelligence', 'demonstrated', 'machines,', 'opposed', 'natural', 'intelligence', 'displayed', 'animals', 'including', 'humans.', 'Leading', 'AI', 'textbooks', 'define', 'field', 'study', '\"intelligent', 'agents\":', 'system', 'perceives', 'environment', 'takes', 'actions', 'maximize', 'chance', 'achieving', 'goals.', 'popular', 'accounts', 'use', 'term', '\"artificial', 'intelligence\"', 'describe', 'machines', 'mimic', '\"cognitive\"', 'functions', 'humans', 'associate', 'human', 'mind,', '\"learning\"', '\"problem-solving\",', 'however,', 'definition', 'rejected', 'major', 'AI', 'researchers.', 'AI', 'applications', 'include', 'advanced', 'web', 'search', 'engines', '(e.g.,', 'Google),', 'recommendation', 'systems', '(used', 'YouTube,', 'Amazon', 'Netflix),', 'understanding', 'human', 'speech', '(such', 'Siri', 'Alexa),', 'self-driving', 'cars', '(e.g.,', 'Tesla),', 'automated', 'decision-making', 'competing', 'highest', 'level', 'strategic', 'game', 'systems', '(such', 'chess', 'Go).', 'machines', 'increasingly', 'capable,', 'tasks', 'considered', 'require', '\"intelligence\"', 'removed', 'definition', 'AI,', 'phenomenon', 'known', 'AI', 'effect.', 'instance,', 'optical', 'character', 'recognition', 'frequently', 'excluded', 'things', 'considered', 'AI,', 'having', 'routine', 'technology.', 'Artificial', 'intelligence', 'founded', 'academic', 'discipline', '1956,', 'years', 'experienced', 'waves', 'optimism,', 'followed', 'disappointment', 'loss', 'funding', '(known', '\"AI', 'winter\"),', 'followed', 'new', 'approaches,', 'success', 'renewed', 'funding.', 'AI', 'research', 'tried', 'discarded', 'different', 'approaches', 'founding,', 'including', 'simulating', 'brain,', 'modeling', 'human', 'problem', 'solving,', 'formal', 'logic,', 'large', 'databases', 'knowledge', 'imitating', 'animal', 'behavior.', 'decades', '21st', 'century,', 'highly', 'mathematical-statistical', 'machine', 'learning', 'dominated', 'field,', 'technique', 'proved', 'highly', 'successful,', 'helping', 'solve', 'challenging', 'problems', 'industry', 'academia.', 'sub-fields', 'AI', 'research', 'centered', 'particular', 'goals', 'use', 'particular', 'tools.', 'traditional', 'goals', 'AI', 'research', 'include', 'reasoning,', 'knowledge', 'representation,', 'planning,', 'learning,', 'natural', 'language', 'processing,', 'perception,', 'ability', 'manipulate', 'objects.', 'General', 'intelligence', '(the', 'ability', 'solve', 'arbitrary', 'problem)', \"field's\", 'long-term', 'goals.', 'solve', 'problems,', 'AI', 'researchers', 'adapted', 'integrated', 'wide', 'range', 'problem-solving', 'techniques—including', 'search', 'mathematical', 'optimization,', 'formal', 'logic,', 'artificial', 'neural', 'networks,', 'methods', 'based', 'statistics,', 'probability', 'economics.', 'AI', 'draws', 'computer', 'science,', 'psychology,', 'linguistics,', 'philosophy,', 'fields.', 'field', 'founded', 'assumption', 'human', 'intelligence', '\"can', 'precisely', 'described', 'machine', 'simulate', 'it\".', 'raises', 'philosophical', 'arguments', 'mind', 'ethics', 'creating', 'artificial', 'beings', 'endowed', 'human-like', 'intelligence.', 'issues', 'explored', 'myth,', 'fiction,', 'philosophy', 'antiquity.', 'Science', 'fiction', 'futurology', 'suggested', 'that,', 'enormous', 'potential', 'power,', 'AI', 'existential', 'risk', 'humanity.']\n"
          ]
        }
      ]
    },
    {
      "cell_type": "markdown",
      "source": [
        "# Dependency Parsing"
      ],
      "metadata": {
        "id": "MQTf0QAhM5aA"
      }
    },
    {
      "cell_type": "code",
      "source": [
        "for token in doc[100:150]:\n",
        "  print(token.text, token.tag_, token.head.text, token.dep_)"
      ],
      "metadata": {
        "colab": {
          "base_uri": "https://localhost:8080/"
        },
        "id": "JZpwY9eKMs-t",
        "outputId": "46a6c113-c0d7-4b4a-aa73-30b73bda6f5c"
      },
      "execution_count": 12,
      "outputs": [
        {
          "output_type": "stream",
          "name": "stdout",
          "text": [
            "is VBZ rejected auxpass\n",
            "rejected VBN rejected ROOT\n",
            "by IN rejected agent\n",
            "major JJ researchers amod\n",
            "AI NNP researchers compound\n",
            "researchers NNS by pobj\n",
            ". . rejected punct\n",
            "\n",
            "\n",
            " _SP \n",
            "\n",
            " dep\n",
            "AI NNP applications compound\n",
            "applications NNS include nsubj\n",
            "include VBP include ROOT\n",
            "advanced JJ engines amod\n",
            "web NN search compound\n",
            "search NN engines compound\n",
            "engines NNS include dobj\n",
            "( -LRB- engines punct\n",
            "e.g. RB Google advmod\n",
            ", , Google punct\n",
            "Google NNP engines appos\n",
            ") -RRB- Google punct\n",
            ", , engines punct\n",
            "recommendation NN systems compound\n",
            "systems NNS engines conj\n",
            "( -LRB- systems punct\n",
            "used VBN systems acl\n",
            "by IN used agent\n",
            "YouTube NNP by pobj\n",
            ", , YouTube punct\n",
            "Amazon NNP YouTube conj\n",
            "and CC Amazon cc\n",
            "Netflix NNP Amazon conj\n",
            ") -RRB- YouTube punct\n",
            ", , systems punct\n",
            "understanding VBG engines acl\n",
            "human JJ speech amod\n",
            "speech NN understanding dobj\n",
            "( -LRB- speech punct\n",
            "such JJ as amod\n",
            "as IN speech prep\n",
            "Siri NNP as pobj\n",
            "and CC Siri cc\n",
            "Alexa NNP Siri conj\n",
            ") -RRB- speech punct\n",
            ", , speech punct\n",
            "self NN driving npadvmod\n",
            "- HYPH driving punct\n",
            "driving VBG cars amod\n",
            "cars NNS speech conj\n",
            "( -LRB- cars punct\n",
            "e.g. RB Tesla advmod\n"
          ]
        }
      ]
    },
    {
      "cell_type": "markdown",
      "source": [
        "# Noun Phrases"
      ],
      "metadata": {
        "id": "dPeDZ_AuOv2d"
      }
    },
    {
      "cell_type": "code",
      "source": [
        "for word in doc.noun_chunks:\n",
        "  print(word.text)"
      ],
      "metadata": {
        "colab": {
          "base_uri": "https://localhost:8080/"
        },
        "id": "EcbKJ7w-OgJB",
        "outputId": "34857766-817b-48b9-a649-fe83185e632d"
      },
      "execution_count": 13,
      "outputs": [
        {
          "output_type": "stream",
          "name": "stdout",
          "text": [
            "Artificial intelligence\n",
            "AI\n",
            "intelligence\n",
            "machines\n",
            "the natural intelligence\n",
            "animals\n",
            "humans\n",
            "Leading AI textbooks\n",
            "the field\n",
            "the study\n",
            "\"intelligent agents\n",
            "any system\n",
            "that\n",
            "its environment\n",
            "actions\n",
            "that\n",
            "its chance\n",
            "its goals\n",
            "Some popular accounts\n",
            "the term\n",
            "\"artificial intelligence\n",
            "machines\n",
            "that\n",
            "\"cognitive\" functions\n",
            "that\n",
            "humans\n",
            "the human mind\n",
            "\"learning\n",
            "\"problem-solving\n",
            "this definition\n",
            "major AI researchers\n",
            "AI applications\n",
            "advanced web search engines\n",
            "e.g., Google\n",
            "recommendation systems\n",
            "YouTube\n",
            "Amazon\n",
            "Netflix\n",
            "human speech\n",
            "Siri\n",
            "Alexa\n",
            "self-driving cars\n",
            "e.g., Tesla\n",
            "automated decision-making\n",
            "the highest level\n",
            "strategic game systems\n",
            "chess\n",
            "Go\n",
            "machines\n",
            "tasks\n",
            "\"intelligence\n",
            "the definition\n",
            "AI\n",
            "a phenomenon\n",
            "the AI effect\n",
            "instance\n",
            "optical character recognition\n",
            "things\n",
            "AI\n",
            "a routine technology\n",
            "Artificial intelligence\n",
            "an academic discipline\n",
            "the years\n",
            "several waves\n",
            "optimism\n",
            "disappointment\n",
            "the loss\n",
            "funding\n",
            "an \"AI winter\n",
            "new approaches\n",
            "success\n",
            "renewed funding\n",
            "AI research\n",
            "many different approaches\n",
            "its founding\n",
            "the brain\n",
            "human problem solving\n",
            "formal logic\n",
            "large databases\n",
            "knowledge\n",
            "animal behavior\n",
            "the first decades\n",
            "the 21st century\n",
            "highly mathematical-statistical machine learning\n",
            "the field\n",
            "this technique\n",
            "many challenging problems\n",
            "industry\n",
            "academia\n",
            "The various sub-fields\n",
            "AI research\n",
            "particular goals\n",
            "the use\n",
            "particular tools\n",
            "The traditional goals\n",
            "AI research\n",
            "reasoning\n",
            "knowledge representation\n",
            "planning\n",
            "learning\n",
            "natural language processing\n",
            "perception\n",
            "the ability\n",
            "objects\n",
            "General intelligence\n",
            "the ability\n",
            "an arbitrary problem\n",
            "the field's long-term goals\n",
            "these problems\n",
            "AI researchers\n",
            "a wide range\n",
            "problem-solving techniques\n",
            "search\n",
            "mathematical optimization\n",
            "formal logic\n",
            "artificial neural networks\n",
            "methods\n",
            "statistics\n",
            "probability\n",
            "economics\n",
            "AI\n",
            "computer science\n",
            "psychology\n",
            "linguistics\n",
            "philosophy\n",
            "many other fields\n",
            "The field\n",
            "the assumption\n",
            "human intelligence\n",
            "a machine\n",
            "it\n",
            "This\n",
            "philosophical arguments\n",
            "the mind\n",
            "the ethics\n",
            "artificial beings\n",
            "human-like intelligence\n",
            "These issues\n",
            "myth\n",
            "fiction\n",
            "philosophy\n",
            "antiquity\n",
            "Science fiction\n",
            "futurology\n",
            "its enormous potential\n",
            "power\n",
            "AI\n",
            "an existential risk\n",
            "humanity\n"
          ]
        }
      ]
    },
    {
      "cell_type": "markdown",
      "source": [
        "# Named Entity Recognition"
      ],
      "metadata": {
        "id": "Gc5-y1iQO8-t"
      }
    },
    {
      "cell_type": "code",
      "source": [
        "for word in doc.ents:\n",
        "  print(word.text, word.label_)"
      ],
      "metadata": {
        "colab": {
          "base_uri": "https://localhost:8080/"
        },
        "id": "iv6QjMwfOzqU",
        "outputId": "d865df5d-ffa5-46a2-e30f-4b32799a7067"
      },
      "execution_count": 14,
      "outputs": [
        {
          "output_type": "stream",
          "name": "stdout",
          "text": [
            "Google ORG\n",
            "YouTube ORG\n",
            "Amazon ORG\n",
            "Netflix ORG\n",
            "Siri ORG\n",
            "Alexa ORG\n",
            "Tesla ORG\n",
            "1956 DATE\n",
            "the years DATE\n",
            "the first decades of the 21st century DATE\n"
          ]
        }
      ]
    },
    {
      "cell_type": "markdown",
      "source": [
        "# Coreference Resolution"
      ],
      "metadata": {
        "id": "s_bsEsC-PHzE"
      }
    },
    {
      "cell_type": "code",
      "source": [
        "print('This is all we know about AI')\n",
        "for entity in ['intelligence', 'AI', 'artificial intelligence']:\n",
        "  for cue in ['be', 'become']:\n",
        "    statements = textacy.extract.semistructured_statements(doc, entity=entity, cue=cue) \n",
        "    for statement in statements:\n",
        "      subject, verb, fact = statement \n",
        "      print(f\"-  {fact}\")"
      ],
      "metadata": {
        "colab": {
          "base_uri": "https://localhost:8080/"
        },
        "id": "dewVTZGyPBbR",
        "outputId": "4b396f35-f3c6-4ede-d4e3-8782a41c2678"
      },
      "execution_count": 15,
      "outputs": [
        {
          "output_type": "stream",
          "name": "stdout",
          "text": [
            "This is all we know about AI\n",
            "-  [intelligence, demonstrated, by, machines, ,]\n",
            "-  [an, existential, risk, to, humanity]\n"
          ]
        }
      ]
    }
  ],
  "metadata": {
    "colab": {
      "name": "nlp pipeline.ipynb",
      "provenance": []
    },
    "kernelspec": {
      "display_name": "Python 3",
      "name": "python3"
    },
    "language_info": {
      "name": "python"
    }
  },
  "nbformat": 4,
  "nbformat_minor": 0
}