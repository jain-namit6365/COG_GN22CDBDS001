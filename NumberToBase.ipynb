{
  "nbformat": 4,
  "nbformat_minor": 0,
  "metadata": {
    "colab": {
      "name": "NumberToBase.ipynb",
      "provenance": []
    },
    "kernelspec": {
      "name": "python3",
      "display_name": "Python 3"
    },
    "language_info": {
      "name": "python"
    }
  },
  "cells": [
    {
      "cell_type": "code",
      "execution_count": 4,
      "metadata": {
        "colab": {
          "base_uri": "https://localhost:8080/"
        },
        "id": "H44Vfw0E0bII",
        "outputId": "c014e046-45ca-4da2-86a3-78f85c4c8d39"
      },
      "outputs": [
        {
          "output_type": "stream",
          "name": "stdout",
          "text": [
            "Enter N: 8\n",
            "0\n",
            "1\n",
            "2\n",
            "3\n",
            "4\n",
            "5\n",
            "6\n",
            "7\n",
            "10\n",
            "11\n",
            "12\n",
            "13\n",
            "14\n",
            "15\n",
            "16\n",
            "17\n",
            "20\n",
            "21\n",
            "22\n",
            "23\n",
            "24\n",
            "25\n",
            "26\n",
            "27\n",
            "30\n",
            "31\n",
            "32\n",
            "33\n",
            "34\n",
            "35\n",
            "36\n",
            "37\n",
            "40\n",
            "41\n",
            "42\n",
            "43\n",
            "44\n",
            "45\n",
            "46\n",
            "47\n",
            "50\n",
            "51\n",
            "52\n",
            "53\n",
            "54\n",
            "55\n",
            "56\n",
            "57\n",
            "60\n",
            "61\n"
          ]
        }
      ],
      "source": [
        "def numberToBase(n, b):\n",
        "    if n == 0:\n",
        "        return \"0\"\n",
        "    digits = \"\"\n",
        "    while n:\n",
        "        mod = n % b\n",
        "        if mod > 9:\n",
        "            mod = chr(65+mod-10)\n",
        "        digits += str(mod)\n",
        "        n //= b\n",
        "    return digits[::-1]\n",
        "\n",
        "n = int(input(\"Enter N: \"))\n",
        "if n < 17 and n > 0:\n",
        "    for i in range(50):\n",
        "        try:\n",
        "            print(numberToBase(i, n))\n",
        "        except:\n",
        "            print(\"Error\")\n",
        "else:\n",
        "    print(\"Number out of range: N should be a natural number less than 16\")"
      ]
    },
    {
      "cell_type": "code",
      "source": [
        "%%writefile -a NumberToBase.py\n",
        "\n",
        "def numberToBase(n, b):\n",
        "    if n == 0:\n",
        "        return \"0\"\n",
        "    digits = \"\"\n",
        "    while n:\n",
        "        mod = n % b\n",
        "        if mod > 9:\n",
        "            mod = chr(65+mod-10)\n",
        "        digits += str(mod)\n",
        "        n //= b\n",
        "    return digits[::-1]\n",
        "\n",
        "n = int(input(\"Enter N: \"))\n",
        "if n < 17 and n > 0:\n",
        "    for i in range(50):\n",
        "        try:\n",
        "            print(numberToBase(i, n))\n",
        "        except:\n",
        "            print(\"Error\")\n",
        "else:\n",
        "    print(\"Number out of range: N should be a natural number less than 16\")"
      ],
      "metadata": {
        "colab": {
          "base_uri": "https://localhost:8080/"
        },
        "id": "5-YmNDwi4Yvu",
        "outputId": "81841466-e6fc-4b7a-8620-23f9a65d0e44"
      },
      "execution_count": 5,
      "outputs": [
        {
          "output_type": "stream",
          "name": "stdout",
          "text": [
            "Writing NumberToBase.py\n"
          ]
        }
      ]
    },
    {
      "cell_type": "code",
      "source": [
        ""
      ],
      "metadata": {
        "id": "7Hv_Xfyk4fCX"
      },
      "execution_count": null,
      "outputs": []
    }
  ]
}