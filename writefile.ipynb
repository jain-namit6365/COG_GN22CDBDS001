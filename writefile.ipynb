{
  "nbformat": 4,
  "nbformat_minor": 0,
  "metadata": {
    "colab": {
      "name": "TruthTable.ipynb",
      "provenance": []
    },
    "kernelspec": {
      "name": "python3",
      "display_name": "Python 3"
    },
    "language_info": {
      "name": "python"
    }
  },
  "cells": [
    {
      "cell_type": "code",
      "source": [
        "# for writing to a file, if file is present then it is overwritten. The file will be created if it does not exist.\n",
        "%%writefile DecimalToBinary.py\n",
        "\n",
        "# for writing to a file, if file is present then contents are appended. The file will be created if it does not exist.\n",
        "# %%writefile -a DecimalToBinary.py\n",
        "\n",
        "def DecimalToBinary(n , a):\n",
        "  if n == 0:\n",
        "    print(a)\n",
        "    return \n",
        "  DecimalToBinary(n - 1 , a + \"0\")\n",
        "  DecimalToBinary(n - 1 , a + \"1\")\n",
        "  return\n",
        "\n",
        "n = int(input(\"Enter N: \"))\n",
        "DecimalToBinary(n, \"\")"
      ],
      "metadata": {
        "colab": {
          "base_uri": "https://localhost:8080/"
        },
        "id": "-gCYJRmvqI8H",
        "outputId": "8df26be9-37bd-4ab1-c487-01bbae4fe75e"
      },
      "execution_count": 28,
      "outputs": [
        {
          "output_type": "stream",
          "name": "stdout",
          "text": [
            "Writing DecimalToBinary.py\n"
          ]
        }
      ]
    },
    {
      "cell_type": "code",
      "source": [
        ""
      ],
      "metadata": {
        "id": "aVrNn8Pltjpd"
      },
      "execution_count": null,
      "outputs": []
    }
  ]
}