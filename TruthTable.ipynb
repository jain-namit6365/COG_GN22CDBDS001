{
  "nbformat": 4,
  "nbformat_minor": 0,
  "metadata": {
    "colab": {
      "name": "TruthTable.ipynb",
      "provenance": []
    },
    "kernelspec": {
      "name": "python3",
      "display_name": "Python 3"
    },
    "language_info": {
      "name": "python"
    }
  },
  "cells": [
    {
      "cell_type": "code",
      "source": [
        "def DecimalToBinary(n , a):\n",
        "  if n == 0:\n",
        "    print(a)\n",
        "    return \n",
        "  DecimalToBinary(n - 1 , a + \"0\")\n",
        "  DecimalToBinary(n - 1 , a + \"1\")\n",
        "  return\n",
        "\n",
        "n = int(input(\"Enter N: \"))\n",
        "DecimalToBinary(n, \"\")"
      ],
      "metadata": {
        "colab": {
          "base_uri": "https://localhost:8080/"
        },
        "id": "-gCYJRmvqI8H",
        "outputId": "6eb7793f-738f-4a4e-891a-adcd64377c34"
      },
      "execution_count": 29,
      "outputs": [
        {
          "output_type": "stream",
          "name": "stdout",
          "text": [
            "Enter N: 3\n",
            "000\n",
            "001\n",
            "010\n",
            "011\n",
            "100\n",
            "101\n",
            "110\n",
            "111\n"
          ]
        }
      ]
    },
    {
      "cell_type": "code",
      "source": [
        ""
      ],
      "metadata": {
        "id": "aVrNn8Pltjpd"
      },
      "execution_count": null,
      "outputs": []
    }
  ]
}